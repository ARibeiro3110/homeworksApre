{
 "cells": [
  {
   "cell_type": "markdown",
   "metadata": {},
   "source": [
    "# Homework II - Aprendizagem\n",
    "\n",
    "**Afonso da Conceição Ribeiro**, 102763\n",
    "<br>\n",
    "**Miguel Gomes Marques Pessanha de Almeida**, 103493"
   ]
  },
  {
   "cell_type": "markdown",
   "metadata": {},
   "source": [
    "## I. Pen and Paper [13v]\n",
    "\n",
    "**Consider the following dataset:**"
   ]
  },
  {
   "cell_type": "markdown",
   "metadata": {},
   "source": [
    "<body>\n",
    "  <table>\n",
    "    <tr>\n",
    "      <th>D</th>\n",
    "      <th>y<sub>1</sub></th>\n",
    "      <th>y<sub>2</sub></th>\n",
    "      <th>y<sub>3</sub></th>\n",
    "      <th>y<sub>4</sub></th>\n",
    "      <th>y<sub>5</sub></th>\n",
    "      <th>y<sub>6</sub></th>\n",
    "    </tr>\n",
    "    <tr>\n",
    "      <td><b>x<sub>1</sub></b></td>\n",
    "      <td>0.24</td>\n",
    "      <td>0.36</td>\n",
    "      <td>1</td>\n",
    "      <td>1</td>\n",
    "      <td>0</td>\n",
    "      <td>A</td>\n",
    "    </tr>\n",
    "    <tr>\n",
    "      <td><b>x<sub>2</sub></b></td>\n",
    "      <td>0.16</td>\n",
    "      <td>0.48</td>\n",
    "      <td>1</td>\n",
    "      <td>0</td>\n",
    "      <td>1</td>\n",
    "      <td>A</td>\n",
    "    </tr>\n",
    "    <tr>\n",
    "      <td><b>x<sub>3</sub></b></td>\n",
    "      <td>0.32</td>\n",
    "      <td>0.72</td>\n",
    "      <td>0</td>\n",
    "      <td>1</td>\n",
    "      <td>2</td>\n",
    "      <td>A</td>\n",
    "    </tr>\n",
    "    <tr>\n",
    "      <td><b>x<sub>4</sub></b></td>\n",
    "      <td>0.54</td>\n",
    "      <td>0.11</td>\n",
    "      <td>0</td>\n",
    "      <td>0</td>\n",
    "      <td>1</td>\n",
    "      <td>B</td>\n",
    "    </tr>\n",
    "    <tr>\n",
    "      <td><b>x<sub>5</sub></b></td>\n",
    "      <td>0.66</td>\n",
    "      <td>0.39</td>\n",
    "      <td>0</td>\n",
    "      <td>0</td>\n",
    "      <td>0</td>\n",
    "      <td>B</td>\n",
    "    </tr>\n",
    "    <tr>\n",
    "      <td><b>x<sub>6</sub></b></td>\n",
    "      <td>0.76</td>\n",
    "      <td>0.28</td>\n",
    "      <td>1</td>\n",
    "      <td>0</td>\n",
    "      <td>2</td>\n",
    "      <td>B</td>\n",
    "    </tr>\n",
    "    <tr>\n",
    "      <td><b>x<sub>7</sub></b></td>\n",
    "      <td>0.41</td>\n",
    "      <td>0.53</td>\n",
    "      <td>0</td>\n",
    "      <td>1</td>\n",
    "      <td>1</td>\n",
    "      <td>B</td>\n",
    "    </tr>\n",
    "    <tr>\n",
    "      <td><b>x<sub>8</sub></b></td>\n",
    "      <td>0.38</td>\n",
    "      <td>0.52</td>\n",
    "      <td>0</td>\n",
    "      <td>1</td>\n",
    "      <td>0</td>\n",
    "      <td>A</td>\n",
    "    </tr>\n",
    "    <tr>\n",
    "      <td><b>x<sub>9</sub></b></td>\n",
    "      <td>0.42</td>\n",
    "      <td>0.59</td>\n",
    "      <td>0</td>\n",
    "      <td>1</td>\n",
    "      <td>1</td>\n",
    "      <td>B</td>\n",
    "    </tr>\n",
    "  </table>\n",
    "</body>\n"
   ]
  },
  {
   "cell_type": "markdown",
   "metadata": {},
   "source": [
    "### 1)\n",
    "\n",
    "**Consider x<sub>1</sub>–x<sub>7</sub> to be training observations, x<sub>8</sub>–x<sub>9</sub> to be testing observations, y<sub>1</sub>–y<sub>5</sub> to be input variables and y<sub>6</sub> to be the target variable.\n",
    "<br>\n",
    "Hint: you can use scipy.stats.multivariate_normal for multivariate distribution calculus**"
   ]
  },
  {
   "cell_type": "markdown",
   "metadata": {},
   "source": [
    "#### a. [3.5v]\n",
    "\n",
    "**Learn a Bayesian classifier assuming: i) {y<sub>1</sub>, y<sub>2</sub>}, {y<sub>3</sub>, y<sub>4</sub>} and {y<sub>5</sub>} sets of independent variables (e.g., y<sub>1</sub> ⫫ y<sub>3</sub> yet y<sub>1</sub> ⫫̸ y<sub>2</sub>), and ii) y<sub>1</sub> × y<sub>2</sub> ∈ ℝ<sup>2</sup> is normally distributed. Show all parameters (distributions and priors for subsequent testing).**"
   ]
  },
  {
   "cell_type": "markdown",
   "metadata": {},
   "source": [
    "#### b. [2.5v]\n",
    "\n",
    "**Under a MAP assumption, classify each testing observation showing all your calculus.**"
   ]
  },
  {
   "cell_type": "markdown",
   "metadata": {},
   "source": [
    "#### c. [2v]\n",
    "\n",
    "**Consider that the default decision threshold of θ = 0.5 can be adjusted according to**\n",
    "\n",
    "$\n",
    "f(\\textbf{x}|\\theta) =\n",
    "\\begin{cases}\n",
    "A & P(A|\\textbf{x}) > \\theta \\\\\n",
    "B & \\text{otherwise}\n",
    "\\end{cases}\n",
    "$\n",
    "\n",
    "**Under a maximum likelihood assumption, what thresholds optimize testing accuracy?**"
   ]
  },
  {
   "cell_type": "markdown",
   "metadata": {},
   "source": [
    "### 2)\n",
    "\n",
    "**Let y<sub>1</sub> be the target numeric variable, y<sub>2</sub>-y<sub>6</sub> be the input variables where y<sub>2</sub> is binarized under an equal-width (equal-range) discretization. For the evaluation of regressors, consider a 3-fold cross-validation over the full dataset (x<sub>1</sub>-x<sub>9</sub>) without shuffling the observations.**"
   ]
  },
  {
   "cell_type": "markdown",
   "metadata": {},
   "source": [
    "#### a. [1v]\n",
    "\n",
    "**Identify the observations and features per data fold after the binarization procedure.**"
   ]
  },
  {
   "cell_type": "markdown",
   "metadata": {},
   "source": [
    "#### b. [4v]\n",
    "\n",
    "**Consider a distance-weighted kNN with k=3, Hamming distance (d), and 1/d weighting. Compute the MAE of this kNN regressor for the 1<sup>st</sup> iteration of the cross-validation (i.e. train observations have the lower indices).**"
   ]
  },
  {
   "cell_type": "markdown",
   "metadata": {},
   "source": [
    "## II. Programming and critical analysis [7v]\n",
    "\n",
    "**Considering the column_diagnosis.arff dataset available at the course webpage’s homework tab.\n",
    "<br>\n",
    "Using sklearn, apply a 10-fold stratified cross-validation with shuffling (random_state=0) for the assessment of predictive models along this section.**"
   ]
  },
  {
   "cell_type": "code",
   "execution_count": null,
   "metadata": {},
   "outputs": [],
   "source": [
    "# Import Libraries\n",
    "import pandas as pd\n",
    "import numpy as np\n",
    "import matplotlib.pyplot as plt\n",
    "\n",
    "import seaborn as sns\n",
    "from scipy.io.arff import loadarff\n",
    "from sklearn import feature_selection, model_selection, tree, metrics"
   ]
  },
  {
   "cell_type": "code",
   "execution_count": null,
   "metadata": {},
   "outputs": [],
   "source": [
    "# Data Loading\n",
    "data = loadarff(\"./column_diagnosis.arff\")\n",
    "df = pd.DataFrame(data[0])\n",
    "df[\"class\"] = df[\"class\"].str.decode(\"utf-8\")\n",
    "\n",
    "# Data Preprocessing\n",
    "X = df.drop(\"class\", axis=1)\n",
    "y = df[\"class\"]"
   ]
  },
  {
   "cell_type": "markdown",
   "metadata": {},
   "source": [
    "### 1) [3v]\n",
    "\n",
    "**Compare the performance of kNN with k=5 and naïve Bayes with Gaussian assumption (consider all remaining parameters for each classifier as sklearn’s default):**"
   ]
  },
  {
   "cell_type": "markdown",
   "metadata": {},
   "source": [
    "#### a.\n",
    "\n",
    "**Plot two boxplots with the fold accuracies for each classifier.**"
   ]
  },
  {
   "cell_type": "markdown",
   "metadata": {},
   "source": [
    "#### b.\n",
    "\n",
    "**Using scipy, test the hypothesis \"kNN is statistically superior to naïve Bayes regarding accuracy\", asserting whether is true.**"
   ]
  },
  {
   "cell_type": "markdown",
   "metadata": {},
   "source": [
    "### 2) [2.5v]\n",
    "\n",
    "**Consider two kNN predictors with k=1 and k=5 (uniform weights, Euclidean distance, all remaining parameters as default). Plot the differences between the two cumulative confusion matrices of the predictors. Comment.**"
   ]
  },
  {
   "cell_type": "markdown",
   "metadata": {},
   "source": [
    "### 3) [1.5v]\n",
    "\n",
    "**Considering the unique properties of column_diagnosis, identify three possible difficulties of naïve Bayes when learning from the given dataset.**"
   ]
  }
 ],
 "metadata": {
  "kernelspec": {
   "display_name": "Python 3",
   "language": "python",
   "name": "python3"
  },
  "language_info": {
   "codemirror_mode": {
    "name": "ipython",
    "version": 3
   },
   "file_extension": ".py",
   "mimetype": "text/x-python",
   "name": "python",
   "nbconvert_exporter": "python",
   "pygments_lexer": "ipython3",
   "version": "3.10.12"
  }
 },
 "nbformat": 4,
 "nbformat_minor": 2
}
