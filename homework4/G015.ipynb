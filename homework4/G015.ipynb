{
 "cells": [
  {
   "cell_type": "markdown",
   "metadata": {},
   "source": [
    "# Homework IV - Aprendizagem\n",
    "\n",
    "**Afonso da Conceição Ribeiro**, 102763\n",
    "<br>\n",
    "**Miguel Gomes Marques Pessanha de Almeida**, 103493"
   ]
  },
  {
   "cell_type": "markdown",
   "metadata": {},
   "source": [
    "## I. Pen and Paper [11v]\n",
    "\n",
    "**Given the following observations,**\n",
    "$\n",
    "\\left\\{\n",
    "\\begin{bmatrix} 1 \\\\  0.6 \\\\  0.1 \\end{bmatrix},\n",
    "\\begin{bmatrix} 0 \\\\ -0.4 \\\\  0.8 \\end{bmatrix},\n",
    "\\begin{bmatrix} 0 \\\\  0.2 \\\\  0.5 \\end{bmatrix},\n",
    "\\begin{bmatrix} 1 \\\\  0.4 \\\\ -0.1 \\end{bmatrix}\n",
    "\\right\\}\n",
    "$\n",
    "**. <br> Consider a Bayesian clustering that assumes {y<sub>1</sub>} ⫫ {y<sub>2</sub>, y<sub>3</sub>}, two clusters following a Bernoulli distribution on y<sub>1</sub> (p<sub>1</sub> and p<sub>2</sub>), a multivariate Gaussian on {y<sub>2</sub>, y<sub>3</sub>} (N<sub>1</sub> and N<sub>2</sub>), and the following initial mixture:**\n",
    "$$\n",
    "π_1 = 0.5 \\;, \\quad π_2 = 0.5\n",
    "$$\n",
    "$$\n",
    "p_1 = P(y_1 = 1) = 0.3 \\;, \\quad p_2 = P(y_1 = 1) = 0.7\n",
    "$$\n",
    "$$\n",
    "N_1 \\left(\n",
    "\t\\textbf{μ}_1 = \\begin{bmatrix} 1 \\\\ 1 \\end{bmatrix}, \\;\n",
    "\t\\textbf{Σ}_1 = \\begin{bmatrix} 2 & 0.5 \\\\ 0.5 & 2 \\end{bmatrix}\n",
    "\\right), \\quad\n",
    "N_2 \\left(\n",
    "\t\\textbf{μ}_2 = \\begin{bmatrix} 0 \\\\ 0 \\end{bmatrix}, \\;\n",
    "\t\\textbf{Σ}_2 = \\begin{bmatrix} 1.5 & 1 \\\\ 1 & 1.5 \\end{bmatrix}\n",
    "\\right).\n",
    "$$"
   ]
  },
  {
   "cell_type": "code",
   "metadata": {},
   "outputs": [],
   "source": [
    "import numpy as np\n",
    "from scipy.stats import norm"
   ]
  },
  {
   "cell_type": "markdown",
   "metadata": {},
   "source": [
    "### 1) [6v]\n",
    "\n",
    "**Perform one epoch of the EM clustering algorithm and determine the new parameters. <br>\n",
    "Hint: we suggest you to use `numpy` and `scipy`, however disclose the intermediary results step by step.**"
   ]
  },
  {
   "cell_type": "code",
   "metadata": {},
   "outputs": [
    {
     "name": "stdout",
     "output_type": "stream",
     "text": [
      "Gaussians:\n",
      "N(x1 | μ1, Σ1) = 0.06657530\n",
      "N(x2 | μ1, Σ1) = 0.05004889\n",
      "N(x3 | μ1, Σ1) = 0.06837452\n",
      "N(x4 | μ1, Σ1) = 0.05904699\n",
      "N(x1 | μ2, Σ2) = 0.11961837\n",
      "N(x2 | μ2, Σ2) = 0.06819058\n",
      "N(x3 | μ2, Σ2) = 0.12958103\n",
      "N(x4 | μ2, Σ2) = 0.12450009\n",
      "\n",
      "π1 = 0.19630768\n",
      "π2 = 0.80369232\n",
      "\n",
      "p1 = 0.46039185\n",
      "p2 = 0.50967458\n",
      "\n",
      "μ1 = [0.15829218 0.36423748]\n",
      "μ2 = [0.21018744 0.31541596]\n",
      "\n",
      "Σ1 = [[ 0.15581144 -0.12557173]\n",
      " [-0.12557173  0.12568249]]\n",
      "Σ2 = [[ 0.13560926 -0.11192041]\n",
      " [-0.11192041  0.12047709]]\n"
     ]
    }
   ],
   "source": [
    "x1 = np.array([1, 0.6, 0.1])\n",
    "x2 = np.array([0, -0.4, 0.8])\n",
    "x3 = np.array([0, 0.2, 0.5])\n",
    "x4 = np.array([1, 0.4, -0.1])\n",
    "π1 = 0.5\n",
    "π2 = 0.5\n",
    "p1 = 0.3\n",
    "p2 = 0.7\n",
    "μ1 = np.array([1, 1])\n",
    "Σ1 = np.array([[2, 0.5], [0.5, 2]])\n",
    "μ2 = np.array([0, 0])\n",
    "Σ2 = np.array([[1.5, 1], [1, 1.5]])\n",
    "\n",
    "def gaussian(x, μ, Σ):\n",
    "    return (1 / np.sqrt(np.linalg.det(2 * np.pi * Σ))) * np.exp(-0.5 * np.dot(np.dot((x - μ).T, np.linalg.inv(Σ)), (x - μ)))\n",
    "\n",
    "X = np.array([x1, x2, x3, x4])\n",
    "π = np.array([π1, π2])\n",
    "p = np.array([p1, p2])\n",
    "μ = np.array([μ1, μ2])\n",
    "Σ = np.array([Σ1, Σ2])\n",
    "\n",
    "\n",
    "# E-Step\n",
    "\n",
    "print(\"Gaussians:\")\n",
    "gaussians = np.zeros((2, 4))\n",
    "for k in range(1, 3):\n",
    "    for i in range(1, 5):\n",
    "        gaussians[k-1][i-1] = gaussian(X[i-1][1:], μ[k-1], Σ[k-1])\n",
    "        formatted_pdf = \"{:.8f}\".format(gaussians[k-1][i-1])\n",
    "        print(\"N(x{} | μ{}, Σ{}) = {}\".format(i, k, k, formatted_pdf))\n",
    "\n",
    "# print(\"\\nPosteriors:\")\n",
    "posteriors = np.zeros((2, 4))\n",
    "for k in range(1, 3):\n",
    "    for i in range(1, 5):\n",
    "        posteriors[k-1, i-1] = (p[k-1] * gaussians[k-1, i-1] * π[k-1]) / (factors[0, i-1] + factors[1, i-1])\n",
    "        # print(\"P(c{} | x{}) = {:.8f}\".format(k, i, posteriors[k-1, i-1]))\n",
    "\n",
    "\n",
    "# M-Step\n",
    "\n",
    "# N_k\n",
    "N1 = np.sum(posteriors[0])\n",
    "N2 = np.sum(posteriors[1])\n",
    "# print(\"N1 = {:.8f}\".format(N1))\n",
    "# print(\"N2 = {:.8f}\".format(N2))\n",
    "\n",
    "# π_k\n",
    "π1_new = N1 / (N1 + N2)\n",
    "π2_new = N2 / (N1 + N2)\n",
    "print(\"\\nπ1 = {:.8f}\".format(π1_new))\n",
    "print(\"π2 = {:.8f}\".format(π2_new))\n",
    "\n",
    "# p_k\n",
    "p1_new = np.sum(posteriors[0] * X[:, 0]) / N1\n",
    "p2_new = np.sum(posteriors[1] * X[:, 0]) / N2\n",
    "print(\"\\np1 = {:.8f}\".format(p1_new))\n",
    "print(\"p2 = {:.8f}\".format(p2_new))\n",
    "\n",
    "# μ_k\n",
    "μ1_new = np.zeros(2)\n",
    "μ2_new = np.zeros(2)\n",
    "for i in range(1, 5):\n",
    "    μ1_new += posteriors[0, i-1] * X[i-1][1:]\n",
    "    μ2_new += posteriors[1, i-1] * X[i-1][1:]\n",
    "μ1_new /= N1\n",
    "μ2_new /= N2\n",
    "print(\"\\nμ1 = {}\".format(μ1_new))\n",
    "print(\"μ2 = {}\".format(μ2_new))\n",
    "\n",
    "# Σ_k\n",
    "Σ1_new = np.zeros((2, 2))\n",
    "Σ2_new = np.zeros((2, 2))\n",
    "for i in range(1, 5):\n",
    "    Σ1_new += posteriors[0, i-1] * np.outer(X[i-1][1:] - μ1_new, X[i-1][1:] - μ1_new)\n",
    "    Σ2_new += posteriors[1, i-1] * np.outer(X[i-1][1:] - μ2_new, X[i-1][1:] - μ2_new)\n",
    "Σ1_new /= N1\n",
    "Σ2_new /= N2\n",
    "print(\"\\nΣ1 = {}\".format(Σ1_new))\n",
    "print(\"Σ2 = {}\".format(Σ2_new))"
   ]
  },
  {
   "cell_type": "markdown",
   "metadata": {},
   "source": [
    "##### E-Step\n",
    "\n",
    "$$ \\text{Prior:} \\; P(c_k) = π_k $$\n",
    "\n",
    "$$\n",
    "\\text{Likelihood:} \\;\n",
    "    P(\\textbf{x}_i \\; | \\; c_k) = p_k \\cdot\n",
    "        N \\left( \\begin{bmatrix} x_{i2} \\\\ x_{i3} \\end{bmatrix} \\; | \\; \\textbf{μ}_k, \\textbf{Σ}_k \\right)\n",
    "$$\n",
    "\n",
    "$$\n",
    "\\text{Normalized posterior:} \\;\n",
    "    γ_{k,i} = P(c_k \\; | \\; \\textbf{x}_i) = \\frac{P(\\textbf{x}_i \\; | \\; c_k) \\cdot P(c_k)}\n",
    "        {\\displaystyle\\sum_{j = 1}^n \\; P(\\textbf{x}_i \\; | \\; c_j) \\cdot P(c_j)}\n",
    "        =\n",
    "        \\frac{p_k \\cdot\n",
    "        N \\left( \\begin{bmatrix} x_{i2} \\\\ x_{i3} \\end{bmatrix} \\; | \\; \\textbf{μ}_k, \\textbf{Σ}_k \\right) \\cdot π_k}\n",
    "        {\\displaystyle\\sum_{j = 1}^n \\; p_j \\cdot\n",
    "        N \\left( \\begin{bmatrix} x_{i2} \\\\ x_{i3} \\end{bmatrix} \\; | \\; \\textbf{μ}_j, \\textbf{Σ}_j \\right) \\cdot π_j}\n",
    "$$"
   ]
  },
  {
   "cell_type": "markdown",
   "metadata": {},
   "source": [
    "$$ γ_{1,1} = P(c_1 \\; | \\; \\textbf{x}_1) = \\frac{0.3 \\cdot 0.06657530 \\cdot 0.5}{0.3 \\cdot 0.06657530 \\cdot 0.5 + 0.7 \\cdot 0.11961837 \\cdot 0.5} = 0.19258959 $$\n",
    "$$ γ_{1,2} = P(c_1 \\; | \\; \\textbf{x}_2) = \\frac{0.3 \\cdot 0.05004889 \\cdot 0.5}{0.3 \\cdot 0.05004889 \\cdot 0.5 + 0.7 \\cdot 0.06819058 \\cdot 0.5} = 0.23928490 $$\n",
    "$$ γ_{1,3} = P(c_1 \\; | \\; \\textbf{x}_3) = \\frac{0.3 \\cdot 0.06837452 \\cdot 0.5}{0.3 \\cdot 0.06837452 \\cdot 0.5 + 0.7 \\cdot 0.12958103 \\cdot 0.5} = 0.18443199 $$\n",
    "$$ γ_{1,4} = P(c_1 \\; | \\; \\textbf{x}_4) = \\frac{0.3 \\cdot 0.05904699 \\cdot 0.5}{0.3 \\cdot 0.05904699 \\cdot 0.5 + 0.7 \\cdot 0.12450009 \\cdot 0.5} = 0.16892423 $$\n",
    "$$ γ_{2,1} = P(c_2 \\; | \\; \\textbf{x}_1) = \\frac{0.7 \\cdot 0.11961837 \\cdot 0.5}{0.3 \\cdot 0.06657530 \\cdot 0.5 + 0.7 \\cdot 0.11961837 \\cdot 0.5} = 0.80741041 $$\n",
    "$$ γ_{2,2} = P(c_2 \\; | \\; \\textbf{x}_2) = \\frac{0.7 \\cdot 0.06819058 \\cdot 0.5}{0.3 \\cdot 0.05004889 \\cdot 0.5 + 0.7 \\cdot 0.06819058 \\cdot 0.5} = 0.76071510 $$\n",
    "$$ γ_{2,3} = P(c_2 \\; | \\; \\textbf{x}_3) = \\frac{0.7 \\cdot 0.12958103 \\cdot 0.5}{0.3 \\cdot 0.06837452 \\cdot 0.5 + 0.7 \\cdot 0.12958103 \\cdot 0.5} = 0.81556801 $$\n",
    "$$ γ_{2,4} = P(c_2 \\; | \\; \\textbf{x}_4) = \\frac{0.7 \\cdot 0.12450009 \\cdot 0.5}{0.3 \\cdot 0.05904699 \\cdot 0.5 + 0.7 \\cdot 0.12450009 \\cdot 0.5} = 0.83107577 $$"
   ]
  },
  {
   "cell_type": "markdown",
   "metadata": {},
   "source": [
    "##### M-Step\n",
    "\n",
    "$$ N_k = \\sum_{i = 1}^n γ_{k,i} $$\n",
    "\n",
    "$$ π_k = \\frac{N_k}{\\displaystyle\\sum_{j = 1}^2 N_j} $$\n",
    "\n",
    "$$ p_k = \\frac{1}{N_k} \\; \\sum_{i = 1}^n γ_{k,i} \\cdot x_{i1} $$\n",
    "\n",
    "$$ \\textbf{μ}_k = \\frac{1}{N_k} \\; \\sum_{i = 1}^n γ_{k,i} \\cdot \\begin{bmatrix} x_{i2} \\\\ x_{i3} \\end{bmatrix} $$\n",
    "\n",
    "$$ \\textbf{Σ}_k = \\frac{1}{N_k} \\; \\sum_{i = 1}^n γ_{k,i} \\cdot \\left( \\begin{bmatrix} x_{i2} \\\\ x_{i3} \\end{bmatrix} - \\textbf{μ}_k \\right) \\cdot \\left( \\begin{bmatrix} x_{i2} \\\\ x_{i3} \\end{bmatrix} - \\textbf{μ}_k \\right)^T"
   ]
  },
  {
   "cell_type": "markdown",
   "metadata": {},
   "source": [
    "$$ N_1 = 0.19258959 + 0.23928490 + 0.18443199 + 0.16892423 = 0.78523072 $$\n",
    "$$ N_2 = 0.80741041 + 0.76071510 + 0.81556801 + 0.83107577 = 3.21476928 $$\n",
    "\n",
    "$$ π_1 = \\frac{0.78523072}{0.78523072 + 3.21476928} = 0.19630768 $$\n",
    "$$ π_2 = \\frac{3.21476928}{0.78523072 + 3.21476928} = 0.80369232 $$\n",
    "\n",
    "$$ p_1 = \\frac{1}{0.78523072} \\cdot\n",
    "    (0.19258959 \\cdot 1 + 0.23928490 \\cdot 0 + 0.18443199 \\cdot 0 + 0. 16892423 \\cdot 1)\n",
    "    = 0.46039185 $$\n",
    "\n",
    "$$ p_2 = \\frac{1}{3.21476928} \\cdot\n",
    "    (0.80741041 \\cdot 1 + 0.76071510 \\cdot 0 + 0.81556801 \\cdot 0 + 0.83107577 \\cdot 1)\n",
    "    = 0.50967458 $$\n",
    "\n",
    "$$ \\textbf{μ}_1 = \\frac{1}{0.78523072} \\cdot \\left( \\begin{align*}\n",
    "        0.19258959 \\cdot \\begin{bmatrix}  0.6 \\\\  0.1 \\end{bmatrix} +\n",
    "        0.23928490 \\cdot \\begin{bmatrix} -0.4 \\\\  0.8 \\end{bmatrix} + \\\\\n",
    "        0.18443199 \\cdot \\begin{bmatrix}  0.2 \\\\  0.5 \\end{bmatrix} +\n",
    "        0.16892423 \\cdot \\begin{bmatrix}  0.4 \\\\ -0.1 \\end{bmatrix} \\end{align*}\n",
    "    \\right)\n",
    "    =\n",
    "    \\begin{bmatrix} 0.15829218 \\\\ 0.36423748 \\end{bmatrix} $$\n",
    "\n",
    "$$ \\textbf{μ}_2 = \\frac{1}{3.21476928} \\cdot \\left( \\begin{align*}\n",
    "        0.80741041 \\cdot \\begin{bmatrix}  0.6 \\\\  0.1 \\end{bmatrix} +\n",
    "        0.76071510 \\cdot \\begin{bmatrix} -0.4 \\\\  0.8 \\end{bmatrix} + \\\\\n",
    "        0.81556801 \\cdot \\begin{bmatrix}  0.2 \\\\  0.5 \\end{bmatrix} +\n",
    "        0.83107577 \\cdot \\begin{bmatrix}  0.4 \\\\ -0.1 \\end{bmatrix} \\end{align*}\n",
    "    \\right)\n",
    "    =\n",
    "    \\begin{bmatrix} 0.21018744 \\\\ 0.31541596 \\end{bmatrix} $$\n",
    "\n",
    "$$ \\textbf{Σ}_1 = \\frac{1}{0.78523072} \\cdot \\left( \\begin{align*}\n",
    "        0.19258959 \\cdot \\begin{bmatrix} 0.19510580 & -0.11671576 \\\\ -0.11671576 & 0.06982144 \\end{bmatrix} + \\\\\n",
    "        0.23928490 \\cdot \\begin{bmatrix} 0.31169016 & -0.24328281 \\\\ -0.24328281 & 0.18988898 \\end{bmatrix} + \\\\\n",
    "        0.18443199 \\cdot \\begin{bmatrix} 0.00173954 &  0.00566236 \\\\  0.00566236 & 0.01843146 \\end{bmatrix} + \\\\\n",
    "        0.16892423 \\cdot \\begin{bmatrix} 0.05842267 & -0.11220983 \\\\ -0.11220983 & 0.21551643 \\end{bmatrix} \\end{align*}\n",
    "    \\right)\n",
    "    =\n",
    "    \\begin{bmatrix} 0.15581144 & -0.12557173 \\\\ -0.12557173 & 0.12568249 \\end{bmatrix} $$\n",
    "\n",
    "$$ \\textbf{Σ}_2 = \\frac{1}{3.21476928} \\cdot \\left( \\begin{align*}\n",
    "        0.80741041 \\cdot \\begin{bmatrix} 0.15195383 & -0.08397185 \\\\ -0.08397185 & 0.04640404 \\end{bmatrix} + \\\\\n",
    "        0.76071510 \\cdot \\begin{bmatrix} 0.37232871 & -0.29568709 \\\\ -0.29568709 & 0.23482169 \\end{bmatrix} + \\\\\n",
    "        0.81556801 \\cdot \\begin{bmatrix} 0.00010378 & -0.00188044 \\\\ -0.00188044 & 0.03407127 \\end{bmatrix} + \\\\\n",
    "        0.83107577 \\cdot \\begin{bmatrix} 0.03602881 & -0.07885117 \\\\ -0.07885117 & 0.17257042 \\end{bmatrix} \\end{align*}\n",
    "    \\right)\n",
    "    =\n",
    "    \\begin{bmatrix} 0.13560926 & -0.11192041 \\\\ -0.11192041 & 0.12047709 \\end{bmatrix} $$"
   ]
  },
  {
   "cell_type": "markdown",
   "metadata": {},
   "source": [
    "### 2) [2v]\n",
    "\n",
    "**Given the new observation,**\n",
    "$\n",
    "\\textbf{x}_{\\text{new}} = \\begin{bmatrix} 1 \\\\ 0.3 \\\\ 0.7 \\end{bmatrix}\n",
    "$\n",
    "**, determine the cluster memberships (posteriors).**"
   ]
  },
  {
   "cell_type": "code",
   "metadata": {},
   "outputs": [
    {
     "name": "stdout",
     "output_type": "stream",
     "text": [
      "Gaussians:\n",
      "N(x_new | μ1, Σ1) = 0.03865732\n",
      "N(x_new | μ2, Σ2) = 0.05926263\n",
      "\n",
      "P(c1 | x_new) = 0.12581597\n",
      "P(c2 | x_new) = 0.87418403\n"
     ]
    }
   ],
   "source": [
    "x_new = np.array([1, 0.3, 0.7])\n",
    "π_new = np.array([π1_new, π2_new])\n",
    "p_new = np.array([p1_new, p2_new])\n",
    "μ_new = np.array([μ1_new, μ2_new])\n",
    "Σ_new = np.array([Σ1_new, Σ2_new])\n",
    "\n",
    "print(\"Gaussians:\")\n",
    "for k in range(1, 3):\n",
    "\tprint(\"N(x_new | μ{}, Σ{}) = {:.8f}\".format(k, k, gaussian(x_new[1:], μ_new[k-1], Σ_new[k-1])))\n",
    "print(\"\")\n",
    "\n",
    "# Posteriors\n",
    "for k in range(1, 3):\n",
    "\tprint(\"P(c{} | x_new) = {:.8f}\".format(k, (p_new[k-1] * gaussian(x_new[1:], μ_new[k-1], Σ_new[k-1]) * π_new[k-1]) / (p1_new * gaussian(x_new[1:], μ1_new, Σ1_new) * π1_new + p2_new * gaussian(x_new[1:], μ2_new, Σ2_new) * π2_new)))"
   ]
  },
  {
   "cell_type": "markdown",
   "metadata": {},
   "source": [
    "$$\n",
    "P(c_k \\; | \\; \\textbf{x}_{\\text{new}})\n",
    "    =\n",
    "    \\frac{p_k \\cdot\n",
    "    N \\left( \\begin{bmatrix} x_{i2} \\\\ x_{i3} \\end{bmatrix} \\; | \\; \\textbf{μ}_k, \\textbf{Σ}_k \\right)\n",
    "    \\cdot π_k}\n",
    "    {\\displaystyle\\sum_{j = 1}^n \\;\n",
    "        p_j \\cdot\n",
    "        N \\left( \\begin{bmatrix} x_{i2} \\\\ x_{i3} \\end{bmatrix} \\; | \\; \\textbf{μ}_j, \\textbf{Σ}_j \\right)\n",
    "        \\cdot π_j}\n",
    "$$"
   ]
  },
  {
   "cell_type": "markdown",
   "metadata": {},
   "source": [
    "$$\n",
    "p_1 \\cdot\n",
    "N \\left( \\begin{bmatrix} x_{\\text{new},2} \\\\ x_{\\text{new},3} \\end{bmatrix} \\; | \\; \\textbf{μ}_1, \\textbf{Σ}_1 \\right)\n",
    "\\cdot π_1\n",
    "= 0.46039185 \\cdot 0.03865732 \\cdot 0.19630768 = 0.00349379\n",
    "$$\n",
    "\n",
    "$$\n",
    "p_2 \\cdot\n",
    "N \\left( \\begin{bmatrix} x_{\\text{new},2} \\\\ x_{\\text{new},3} \\end{bmatrix} \\; | \\; \\textbf{μ}_2, \\textbf{Σ}_2 \\right)\n",
    "\\cdot π_2\n",
    "= 0.50967458 \\cdot 0.05926263 \\cdot 0.80369232 = 0.02427525\n",
    "$$\n",
    "\n",
    "$$\n",
    "P(c_1 \\; | \\; \\textbf{x}_{\\text{\\text{new}}})\n",
    "    = \\frac{0.00349379}{0.00349379 + 0.02427525} = 0.12581597\n",
    "$$\n",
    "\n",
    "$$\n",
    "P(c_2 \\; | \\; \\textbf{x}_{\\text{\\text{new}}})\n",
    "    = \\frac{0.02427525}{0.00349379 + 0.02427525} = 0.87418403\n",
    "$$\n",
    "\n",
    "\n",
    "<!--\n",
    "π1 = 0.19630768\n",
    "π2 = 0.80369232\n",
    "\n",
    "p1 = 0.46039185\n",
    "p2 = 0.50967458\n",
    "\n",
    "μ1 = [0.15829218 0.36423748]\n",
    "μ2 = [0.21018744 0.31541596]\n",
    "\n",
    "Σ1 = [[ 0.15581144 -0.12557173]\n",
    " [-0.12557173  0.12568249]]\n",
    "Σ2 = [[ 0.13560926 -0.11192041]\n",
    " [-0.11192041  0.12047709]]\n",
    "\n",
    "-->"
   ]
  },
  {
   "cell_type": "markdown",
   "metadata": {},
   "source": [
    "### 3) [2.5v]\n",
    "\n",
    "**Performing a hard assignment of observations to clusters under a ML assumption, identify the silhouette of the larger cluster under a Manhattan distance.**"
   ]
  },
  {
   "cell_type": "markdown",
   "metadata": {},
   "source": [
    "### 4) [0.5v]\n",
    "\n",
    "**Knowing the purity of the clustering solution is 0.75, identify the number of possible classes (ground truth).**"
   ]
  },
  {
   "cell_type": "markdown",
   "metadata": {},
   "source": [
    "## II. Programming [9v]\n",
    "\n",
    "**Recall the `column_diagnosis.arff` dataset from previous homeworks. For the following exercises, normalize the data using sklearn’s `MinMaxScaler`.**"
   ]
  },
  {
   "cell_type": "code",
   "metadata": {},
   "outputs": [],
   "source": [
    "# Import Libraries"
   ]
  },
  {
   "cell_type": "code",
   "metadata": {},
   "outputs": [],
   "source": [
    "# Data Loading\n",
    "\n",
    "# Data Preprocessing"
   ]
  },
  {
   "cell_type": "markdown",
   "metadata": {},
   "source": [
    "### 1) [4v]\n",
    "\n",
    "**Using `sklearn`, apply k-means clustering fully unsupervisedly on the normalized data with**\n",
    "$\n",
    "k \\in \\{2, 3, 4, 5\\}\n",
    "$\n",
    "**(random=0 and remaining parameters as default). Assess the silhouette and purity of the produced solutions.**"
   ]
  },
  {
   "cell_type": "markdown",
   "metadata": {},
   "source": [
    "### 2) [2v]\n",
    "\n",
    "**Consider the application of PCA after the data normalization:**"
   ]
  },
  {
   "cell_type": "markdown",
   "metadata": {},
   "source": [
    "#### i.\n",
    "\n",
    "**Identify the variability explained by the top two principal components.**"
   ]
  },
  {
   "cell_type": "markdown",
   "metadata": {},
   "source": [
    "#### ii.\n",
    "\n",
    "**For each one of these two components, sort the input variables by relevance by inspecting the absolute weights of the linear projection.**"
   ]
  },
  {
   "cell_type": "markdown",
   "metadata": {},
   "source": [
    "### 3) [2v]\n",
    "\n",
    "**Visualize side-by-side the data using: i) the ground diagnoses, and ii) the previously learned**\n",
    "$\n",
    "k = 3\n",
    "$\n",
    "**clustering solution. To this end, projected the normalized data onto a 2-dimensional data space using PCA and then color observations using the reference and cluster annotations.**"
   ]
  },
  {
   "cell_type": "markdown",
   "metadata": {},
   "source": [
    "### 4) [1v]\n",
    "\n",
    "**Considering the results from questions (1) and (3), identify two ways on how clustering can be used to characterize the population of ill and healthy individuals.**"
   ]
  }
 ],
 "metadata": {
  "kernelspec": {
   "display_name": "Python 3",
   "language": "python",
   "name": "python3"
  },
  "language_info": {
   "codemirror_mode": {
    "name": "ipython",
    "version": 3
   },
   "file_extension": ".py",
   "mimetype": "text/x-python",
   "name": "python",
   "nbconvert_exporter": "python",
   "pygments_lexer": "ipython3",
   "version": "3.12.0"
  }
 },
 "nbformat": 4,
 "nbformat_minor": 2
}
