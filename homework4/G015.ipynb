{
 "cells": [
  {
   "cell_type": "markdown",
   "metadata": {},
   "source": [
    "# Homework IV - Aprendizagem\n",
    "\n",
    "**Afonso da Conceição Ribeiro**, 102763\n",
    "<br>\n",
    "**Miguel Gomes Marques Pessanha de Almeida**, 103493"
   ]
  },
  {
   "cell_type": "markdown",
   "metadata": {},
   "source": [
    "## I. Pen and Paper [11v]\n",
    "\n",
    "**Given the following observations,**\n",
    "$\n",
    "\\left\\{\n",
    "\\begin{bmatrix} 1 \\\\  0.6 \\\\  0.1 \\end{bmatrix},\n",
    "\\begin{bmatrix} 0 \\\\ -0.4 \\\\  0.8 \\end{bmatrix},\n",
    "\\begin{bmatrix} 0 \\\\  0.2 \\\\  0.5 \\end{bmatrix},\n",
    "\\begin{bmatrix} 1 \\\\  0.4 \\\\ -0.1 \\end{bmatrix}\n",
    "\\right\\}\n",
    "$\n",
    "**. <br> Consider a Bayesian clustering that assumes {y<sub>1</sub>} ⫫ {y<sub>2</sub>, y<sub>3</sub>}, two clusters following a Bernoulli distribution on y<sub>1</sub> (p<sub>1</sub> and p<sub>2</sub>), a multivariate Gaussian on {y<sub>2</sub>, y<sub>3</sub>} (N<sub>1</sub> and N<sub>2</sub>), and the following initial mixture:**\n",
    "$$\n",
    "π_1 = 0.5 \\;, \\quad π_2 = 0.5\n",
    "$$\n",
    "$$\n",
    "p_1 = P(y_1 = 1) = 0.3 \\;, \\quad p_2 = P(y_1 = 1) = 0.7\n",
    "$$\n",
    "$$\n",
    "N_1 \\left(\n",
    "\t\\textbf{μ}_1 = \\begin{bmatrix} 1 \\\\ 1 \\end{bmatrix}, \\;\n",
    "\t\\textbf{Σ}_1 = \\begin{bmatrix} 2 & 0.5 \\\\ 0.5 & 2 \\end{bmatrix}\n",
    "\\right), \\quad\n",
    "N_2 \\left(\n",
    "\t\\textbf{μ}_2 = \\begin{bmatrix} 0 \\\\ 0 \\end{bmatrix}, \\;\n",
    "\t\\textbf{Σ}_2 = \\begin{bmatrix} 1.5 & 1 \\\\ 1 & 1.5 \\end{bmatrix}\n",
    "\\right).\n",
    "$$"
   ]
  },
  {
   "cell_type": "code",
   "execution_count": 116,
   "metadata": {},
   "outputs": [],
   "source": [
    "import numpy as np\n",
    "np.set_printoptions(precision=8, suppress=True)"
   ]
  },
  {
   "cell_type": "markdown",
   "metadata": {},
   "source": [
    "### 1) [6v]\n",
    "\n",
    "**Perform one epoch of the EM clustering algorithm and determine the new parameters. <br>\n",
    "Hint: we suggest you to use `numpy` and `scipy`, however disclose the intermediary results step by step.**"
   ]
  },
  {
   "cell_type": "code",
   "execution_count": 117,
   "metadata": {},
   "outputs": [
    {
     "name": "stdout",
     "output_type": "stream",
     "text": [
      "Gaussians:\n",
      "N(x1 | μ1, Σ1) = 0.06657530\n",
      "N(x2 | μ1, Σ1) = 0.05004889\n",
      "N(x3 | μ1, Σ1) = 0.06837452\n",
      "N(x4 | μ1, Σ1) = 0.05904699\n",
      "N(x1 | μ2, Σ2) = 0.11961837\n",
      "N(x2 | μ2, Σ2) = 0.06819058\n",
      "N(x3 | μ2, Σ2) = 0.12958103\n",
      "N(x4 | μ2, Σ2) = 0.12450009\n",
      "\n",
      "Posteriors:\n",
      "P(c1 | x1) = 0.19258959\n",
      "P(c1 | x2) = 0.63134512\n",
      "P(c1 | x3) = 0.55181128\n",
      "P(c1 | x4) = 0.16892423\n",
      "P(c2 | x1) = 0.80741041\n",
      "P(c2 | x2) = 0.36865488\n",
      "P(c2 | x3) = 0.44818872\n",
      "P(c2 | x4) = 0.83107577\n",
      "\n",
      "π1 = 0.38616755\n",
      "π2 = 0.61383245\n",
      "\n",
      "p1 = 0.23403948\n",
      "p2 = 0.66731817\n",
      "\n",
      "μ1 = [0.026509   0.50712978]\n",
      "μ2 = [0.30914476 0.2104205 ]\n",
      "\n",
      "Σ1 = [[ 0.14136501 -0.10540546]\n",
      " [-0.10540546  0.0960526 ]]\n",
      "Σ2 = [[ 0.10829305 -0.08865175]\n",
      " [-0.08865175  0.1041233 ]]\n"
     ]
    }
   ],
   "source": [
    "x1 = np.array([1, 0.6, 0.1])\n",
    "x2 = np.array([0, -0.4, 0.8])\n",
    "x3 = np.array([0, 0.2, 0.5])\n",
    "x4 = np.array([1, 0.4, -0.1])\n",
    "π1 = 0.5\n",
    "π2 = 0.5\n",
    "p1 = np.array([1-0.3, 0.3])\n",
    "p2 = np.array([1-0.7, 0.7])\n",
    "μ1 = np.array([1, 1])\n",
    "Σ1 = np.array([[2, 0.5], [0.5, 2]])\n",
    "μ2 = np.array([0, 0])\n",
    "Σ2 = np.array([[1.5, 1], [1, 1.5]])\n",
    "\n",
    "def gaussian(x, μ, Σ):\n",
    "    return (1 / np.sqrt(np.linalg.det(2 * np.pi * Σ))) * np.exp(-0.5 * np.dot(np.dot((x - μ).T, np.linalg.inv(Σ)), (x - μ)))\n",
    "\n",
    "X = np.array([x1, x2, x3, x4])\n",
    "π = np.array([π1, π2])\n",
    "p = np.array([p1, p2])\n",
    "μ = np.array([μ1, μ2])\n",
    "Σ = np.array([Σ1, Σ2])\n",
    "\n",
    "\n",
    "# E-Step\n",
    "\n",
    "print(\"Gaussians:\")\n",
    "gaussians = np.zeros((2, 4))\n",
    "for k in range(1, 3):\n",
    "    for i in range(1, 5):\n",
    "        gaussians[k-1][i-1] = gaussian(X[i-1][1:], μ[k-1], Σ[k-1])\n",
    "        formatted_pdf = \"{:.8f}\".format(gaussians[k-1][i-1])\n",
    "        print(\"N(x{} | μ{}, Σ{}) = {}\".format(i, k, k, formatted_pdf))\n",
    "\n",
    "# print(\"\\nLikelihoods:\")\n",
    "likelihoods = np.zeros((2, 4))\n",
    "for k in range(1, 3):\n",
    "    for i in range(1, 5):\n",
    "        likelihoods[k-1][i-1] = p[k-1][int(X[i-1, 0])] * gaussians[k-1][i-1]\n",
    "        # print(\"P(x{} | c{}) = {:.8f}\".format(i, k, likelihoods[k-1][i-1]))\n",
    "\n",
    "print(\"\\nPosteriors:\")\n",
    "posteriors = np.zeros((2, 4))\n",
    "for k in range(1, 3):\n",
    "    for i in range(1, 5):\n",
    "        posteriors[k-1, i-1] = (likelihoods[k-1][i-1] * π[k-1]) / (likelihoods[0][i-1] * π1 + likelihoods[1][i-1] * π2)\n",
    "        print(\"P(c{} | x{}) = {:.8f}\".format(k, i, posteriors[k-1, i-1]))\n",
    "\n",
    "\n",
    "# M-Step\n",
    "\n",
    "# N_k\n",
    "N1 = np.sum(posteriors[0])\n",
    "N2 = np.sum(posteriors[1])\n",
    "# print(\"N1 = {:.8f}\".format(N1))\n",
    "# print(\"N2 = {:.8f}\".format(N2))\n",
    "\n",
    "# π_k\n",
    "π1_new = N1 / (N1 + N2)\n",
    "π2_new = N2 / (N1 + N2)\n",
    "print(\"\\nπ1 = {:.8f}\".format(π1_new))\n",
    "print(\"π2 = {:.8f}\".format(π2_new))\n",
    "\n",
    "# p_k\n",
    "p1_new = np.sum(posteriors[0] * X[:, 0]) / N1\n",
    "p1_new = np.array([1-p1_new, p1_new])\n",
    "p2_new = np.sum(posteriors[1] * X[:, 0]) / N2\n",
    "p2_new = np.array([1-p2_new, p2_new])\n",
    "print(\"\\np1 = {:.8f}\".format(p1_new[1]))\n",
    "print(\"p2 = {:.8f}\".format(p2_new[1]))\n",
    "\n",
    "# μ_k\n",
    "μ1_new = np.zeros(2)\n",
    "μ2_new = np.zeros(2)\n",
    "for i in range(1, 5):\n",
    "    μ1_new += posteriors[0, i-1] * X[i-1][1:]\n",
    "    μ2_new += posteriors[1, i-1] * X[i-1][1:]\n",
    "μ1_new /= N1\n",
    "μ2_new /= N2\n",
    "print(\"\\nμ1 = {}\".format(μ1_new))\n",
    "print(\"μ2 = {}\".format(μ2_new))\n",
    "\n",
    "# Σ_k\n",
    "Σ1_new = np.zeros((2, 2))\n",
    "Σ2_new = np.zeros((2, 2))\n",
    "for i in range(1, 5):\n",
    "    Σ1_new += posteriors[0, i-1] * np.outer(X[i-1][1:] - μ1_new, X[i-1][1:] - μ1_new)\n",
    "    Σ2_new += posteriors[1, i-1] * np.outer(X[i-1][1:] - μ2_new, X[i-1][1:] - μ2_new)\n",
    "Σ1_new /= N1\n",
    "Σ2_new /= N2\n",
    "print(\"\\nΣ1 = {}\".format(Σ1_new))\n",
    "print(\"Σ2 = {}\".format(Σ2_new))"
   ]
  },
  {
   "cell_type": "markdown",
   "metadata": {},
   "source": [
    "##### E-Step\n",
    "\n",
    "$$ \\text{Prior:} \\; P(c_k) = π_k $$\n",
    "\n",
    "$$\n",
    "\\text{Likelihood:} \\;\n",
    "    P(\\textbf{x}_i \\; | \\; c_k) = p_k(x_{i1}) \\cdot\n",
    "        N \\left( \\begin{bmatrix} x_{i2} \\\\ x_{i3} \\end{bmatrix} \\; | \\; \\textbf{μ}_k, \\textbf{Σ}_k \\right),\n",
    "\\qquad\n",
    "p_k(x_{i1}) = \\begin{cases}\n",
    "    p_k, & x_{i1} = 1 \\\\\n",
    "    1 - p_k, & x_{i1} = 0 \\\\\n",
    "\\end{cases}\n",
    "$$\n",
    "\n",
    "$$\n",
    "\\text{Normalized posterior:} \\;\n",
    "    γ_{k,i} = P(c_k \\; | \\; \\textbf{x}_i) = \\frac{P(\\textbf{x}_i \\; | \\; c_k) \\cdot P(c_k)}\n",
    "        {\\displaystyle\\sum_{j = 1}^n \\; P(\\textbf{x}_i \\; | \\; c_j) \\cdot P(c_j)}\n",
    "        =\n",
    "        \\frac{p_k(x_{i1}) \\cdot\n",
    "        N \\left( \\begin{bmatrix} x_{i2} \\\\ x_{i3} \\end{bmatrix} \\; | \\; \\textbf{μ}_k, \\textbf{Σ}_k \\right) \\cdot π_k}\n",
    "        {\\displaystyle\\sum_{j = 1}^n \\; p_j(x_{i1}) \\cdot\n",
    "        N \\left( \\begin{bmatrix} x_{i2} \\\\ x_{i3} \\end{bmatrix} \\; | \\; \\textbf{μ}_j, \\textbf{Σ}_j \\right) \\cdot π_j}\n",
    "$$"
   ]
  },
  {
   "cell_type": "markdown",
   "metadata": {},
   "source": [
    "$$ γ_{1,1} = P(c_1 \\; | \\; \\textbf{x}_1) = \\frac{0.3 \\cdot 0.06657530 \\cdot 0.5}{0.3 \\cdot 0.06657530 \\cdot 0.5 + 0.7 \\cdot 0.11961837 \\cdot 0.5} = 0.19258959 $$\n",
    "$$ γ_{1,2} = P(c_1 \\; | \\; \\textbf{x}_2) = \\frac{(1 - 0.3) \\cdot 0.05004889 \\cdot 0.5}{(1 - 0.3) \\cdot 0.05004889 \\cdot 0.5 + (1 - 0.7) \\cdot 0.06819058 \\cdot 0.5} = 0.63134512 $$\n",
    "$$ γ_{1,3} = P(c_1 \\; | \\; \\textbf{x}_3) = \\frac{(1 - 0.3) \\cdot 0.06837452 \\cdot 0.5}{(1 - 0.3) \\cdot 0.06837452 \\cdot 0.5 + (1 - 0.7) \\cdot 0.12958103 \\cdot 0.5} = 0.55181128 $$\n",
    "$$ γ_{1,4} = P(c_1 \\; | \\; \\textbf{x}_4) = \\frac{0.3 \\cdot 0.05904699 \\cdot 0.5}{0.3 \\cdot 0.05904699 \\cdot 0.5 + 0.7 \\cdot 0.12450009 \\cdot 0.5} = 0.16892423 $$\n",
    "$$ γ_{2,1} = P(c_2 \\; | \\; \\textbf{x}_1) = \\frac{0.7 \\cdot 0.11961837 \\cdot 0.5}{0.3 \\cdot 0.06657530 \\cdot 0.5 + 0.7 \\cdot 0.11961837 \\cdot 0.5} = 0.80741041 $$\n",
    "$$ γ_{2,2} = P(c_2 \\; | \\; \\textbf{x}_2) = \\frac{(1 - 0.7) \\cdot 0.06819058 \\cdot 0.5}{(1 - 0.3) \\cdot 0.05004889 \\cdot 0.5 + (1 - 0.7) \\cdot 0.06819058 \\cdot 0.5} = 0.36865488 $$\n",
    "$$ γ_{2,3} = P(c_2 \\; | \\; \\textbf{x}_3) = \\frac{(1 - 0.7) \\cdot 0.12958103 \\cdot 0.5}{(1 - 0.3) \\cdot 0.06837452 \\cdot 0.5 + (1 - 0.7) \\cdot 0.12958103 \\cdot 0.5} = 0.44818872 $$\n",
    "$$ γ_{2,4} = P(c_2 \\; | \\; \\textbf{x}_4) = \\frac{0.7 \\cdot 0.12450009 \\cdot 0.5}{0.3 \\cdot 0.05904699 \\cdot 0.5 + 0.7 \\cdot 0.12450009 \\cdot 0.5} = 0.83107577 $$"
   ]
  },
  {
   "cell_type": "markdown",
   "metadata": {},
   "source": [
    "##### M-Step\n",
    "\n",
    "$$ N_k = \\sum_{i = 1}^n γ_{k,i} $$\n",
    "\n",
    "$$ π_k = \\frac{N_k}{\\displaystyle\\sum_{j = 1}^2 N_j} $$\n",
    "\n",
    "$$ p_k = \\frac{1}{N_k} \\; \\sum_{i = 1}^n γ_{k,i} \\cdot x_{i1} $$\n",
    "\n",
    "$$ \\textbf{μ}_k = \\frac{1}{N_k} \\; \\sum_{i = 1}^n γ_{k,i} \\cdot \\begin{bmatrix} x_{i2} \\\\ x_{i3} \\end{bmatrix} $$\n",
    "\n",
    "$$ \\textbf{Σ}_k = \\frac{1}{N_k} \\; \\sum_{i = 1}^n γ_{k,i} \\cdot \\left( \\begin{bmatrix} x_{i2} \\\\ x_{i3} \\end{bmatrix} - \\textbf{μ}_k \\right) \\cdot \\left( \\begin{bmatrix} x_{i2} \\\\ x_{i3} \\end{bmatrix} - \\textbf{μ}_k \\right)^T"
   ]
  },
  {
   "cell_type": "markdown",
   "metadata": {},
   "source": [
    "##### M-Step\n",
    "\n",
    "$$ N_k = \\sum_{i = 1}^n γ_{k,i} $$\n",
    "\n",
    "$$ π_k = \\frac{N_k}{\\displaystyle\\sum_{j = 1}^2 N_j} $$\n",
    "\n",
    "$$ p_k = \\frac{1}{N_k} \\; \\sum_{i = 1}^n γ_{k,i} \\cdot x_{i1} $$\n",
    "\n",
    "$$ \\textbf{μ}_k = \\frac{1}{N_k} \\; \\sum_{i = 1}^n γ_{k,i} \\cdot \\begin{bmatrix} x_{i2} \\\\ x_{i3} \\end{bmatrix} $$\n",
    "\n",
    "$$ \\textbf{Σ}_k = \\frac{1}{N_k} \\; \\sum_{i = 1}^n γ_{k,i} \\cdot \\left( \\begin{bmatrix} x_{i2} \\\\ x_{i3} \\end{bmatrix} - \\textbf{μ}_k \\right) \\cdot \\left( \\begin{bmatrix} x_{i2} \\\\ x_{i3} \\end{bmatrix} - \\textbf{μ}_k \\right)^T"
   ]
  },
  {
   "cell_type": "markdown",
   "metadata": {},
   "source": [
    "##### M-Step\n",
    "\n",
    "$$ N_k = \\sum_{i = 1}^n γ_{k,i} $$\n",
    "\n",
    "$$ π_k = \\frac{N_k}{\\displaystyle\\sum_{j = 1}^2 N_j} $$\n",
    "\n",
    "$$ p_k = \\frac{1}{N_k} \\; \\sum_{i = 1}^n γ_{k,i} \\cdot x_{i1} $$\n",
    "\n",
    "$$ \\textbf{μ}_k = \\frac{1}{N_k} \\; \\sum_{i = 1}^n γ_{k,i} \\cdot \\begin{bmatrix} x_{i2} \\\\ x_{i3} \\end{bmatrix} $$\n",
    "\n",
    "$$ \\textbf{Σ}_k = \\frac{1}{N_k} \\; \\sum_{i = 1}^n γ_{k,i} \\cdot \\left( \\begin{bmatrix} x_{i2} \\\\ x_{i3} \\end{bmatrix} - \\textbf{μ}_k \\right) \\cdot \\left( \\begin{bmatrix} x_{i2} \\\\ x_{i3} \\end{bmatrix} - \\textbf{μ}_k \\right)^T"
   ]
  },
  {
   "cell_type": "markdown",
   "metadata": {},
   "source": [
    "$$ N_1 = 0.19258959 + 0.63134512 + 0.55181128 + 0.16892423 = 1.54467022 $$\n",
    "$$ N_2 = 0.80741041 + 0.36865488 + 0.44818872 + 0.83107577 = 2.45532978 $$\n",
    "\n",
    "$$ π_1 = \\frac{1.54467022}{1.54467022 + 2.45532978} = 0.38616755 $$\n",
    "$$ π_2 = \\frac{2.45532978}{1.54467022 + 2.45532978} = 0.61383245 $$\n",
    "\n",
    "$$ p_1 = \\frac{1}{1.54467022} \\cdot\n",
    "    (0.19258959 \\cdot 1 + 0.63134512 \\cdot 0 + 0.55181128 \\cdot 0 + 0. 16892423 \\cdot 1)\n",
    "    = 0.23403948 $$\n",
    "\n",
    "$$ p_2 = \\frac{1}{2.45532978} \\cdot\n",
    "    (0.80741041 \\cdot 1 + 0.36865488 \\cdot 0 + 0.44818872 \\cdot 0 + 0.83107577 \\cdot 1)\n",
    "    = 0.66731817 $$\n",
    "\n",
    "$$ \\textbf{μ}_1 = \\frac{1}{1.54467022} \\cdot \\left( \\begin{align*}\n",
    "        0.19258959 \\cdot \\begin{bmatrix}  0.6 \\\\  0.1 \\end{bmatrix} +\n",
    "        0.63134512 \\cdot \\begin{bmatrix} -0.4 \\\\  0.8 \\end{bmatrix} + \\\\\n",
    "        0.55181128 \\cdot \\begin{bmatrix}  0.2 \\\\  0.5 \\end{bmatrix} +\n",
    "        0.16892423 \\cdot \\begin{bmatrix}  0.4 \\\\ -0.1 \\end{bmatrix} \\end{align*}\n",
    "    \\right)\n",
    "    =\n",
    "    \\begin{bmatrix} 0.02650900 \\\\ 0.50712978 \\end{bmatrix} $$\n",
    "\n",
    "$$ \\textbf{μ}_2 = \\frac{1}{2.45532978} \\cdot \\left( \\begin{align*}\n",
    "        0.80741041 \\cdot \\begin{bmatrix}  0.6 \\\\  0.1 \\end{bmatrix} +\n",
    "        0.36865488 \\cdot \\begin{bmatrix} -0.4 \\\\  0.8 \\end{bmatrix} + \\\\\n",
    "        0.44818872 \\cdot \\begin{bmatrix}  0.2 \\\\  0.5 \\end{bmatrix} +\n",
    "        0.83107577 \\cdot \\begin{bmatrix}  0.4 \\\\ -0.1 \\end{bmatrix} \\end{align*}\n",
    "    \\right)\n",
    "    =\n",
    "    \\begin{bmatrix} 0.30914476 \\\\ 0.21042050 \\end{bmatrix} $$\n",
    "\n",
    "$$ \\textbf{Σ}_1 = \\frac{1}{1.54467022} \\cdot \\left( \\begin{align*}\n",
    "        0.19258959 \\cdot \\begin{bmatrix} 0.32889193 & -0.23348527 \\\\ -0.23348527 & 0.16575466 \\end{bmatrix} + \\\\\n",
    "        0.63134512 \\cdot \\begin{bmatrix} 0.18190992 & -0.12491178 \\\\ -0.12491178 & 0.08577297 \\end{bmatrix} + \\\\\n",
    "        0.55181128 \\cdot \\begin{bmatrix} 0.03009913 & -0.00123695 \\\\ -0.00123695 & 0.00005083 \\end{bmatrix} + \\\\\n",
    "        0.16892423 \\cdot \\begin{bmatrix} 0.13949553 & -0.22675751 \\\\ -0.22675751 & 0.36860657 \\end{bmatrix} \\end{align*}\n",
    "    \\right)\n",
    "    =\n",
    "    \\begin{bmatrix} 0.14136501 & -0.10540546 \\\\ -0.10540546 & 0.09605260 \\end{bmatrix} $$\n",
    "\n",
    "$$ \\textbf{Σ}_2 = \\frac{1}{3.21476928} \\cdot \\left( \\begin{align*}\n",
    "        0.80741041 \\cdot \\begin{bmatrix} 0.08459677 & -0.03211638 \\\\ -0.03211638 & 0.01219269 \\end{bmatrix} + \\\\\n",
    "        0.36865488 \\cdot \\begin{bmatrix} 0.50288630 & -0.41809721 \\\\ -0.41809721 & 0.34760398 \\end{bmatrix} + \\\\\n",
    "        0.44818872 \\cdot \\begin{bmatrix} 0.01191258 & -0.03160609 \\\\ -0.03160609 & 0.08385628 \\end{bmatrix} + \\\\\n",
    "        0.83107577 \\cdot \\begin{bmatrix} 0.00825467 & -0.02820333 \\\\ -0.02820333 & 0.09636089 \\end{bmatrix} \\end{align*}\n",
    "    \\right)\n",
    "    =\n",
    "    \\begin{bmatrix} 0.10829305 & -0.08865175 \\\\ -0.08865175 & 0.10412330 \\end{bmatrix} $$"
   ]
  },
  {
   "cell_type": "markdown",
   "metadata": {},
   "source": [
    "### 2) [2v]\n",
    "\n",
    "**Given the new observation,**\n",
    "$\n",
    "\\textbf{x}_{\\text{new}} = \\begin{bmatrix} 1 \\\\ 0.3 \\\\ 0.7 \\end{bmatrix}\n",
    "$\n",
    "**, determine the cluster memberships (posteriors).**"
   ]
  },
  {
   "cell_type": "code",
   "execution_count": 118,
   "metadata": {},
   "outputs": [
    {
     "name": "stdout",
     "output_type": "stream",
     "text": [
      "Gaussians:\n",
      "N(x_new | μ1, Σ1) = 0.02707557\n",
      "N(x_new | μ2, Σ2) = 0.06843088\n",
      "\n",
      "Posteriors:\n",
      "P(c1 | x_new) = 0.08028951\n",
      "P(c2 | x_new) = 0.91971049\n"
     ]
    }
   ],
   "source": [
    "x_new = np.array([1, 0.3, 0.7])\n",
    "π_new = np.array([π1_new, π2_new])\n",
    "p_new = np.array([p1_new, p2_new])\n",
    "μ_new = np.array([μ1_new, μ2_new])\n",
    "Σ_new = np.array([Σ1_new, Σ2_new])\n",
    "\n",
    "print(\"Gaussians:\")\n",
    "for k in range(1, 3):\n",
    "\tprint(\"N(x_new | μ{}, Σ{}) = {:.8f}\".format(k, k, gaussian(x_new[1:], μ_new[k-1], Σ_new[k-1])))\n",
    "\n",
    "print(\"\\nPosteriors:\")\n",
    "for k in range(1, 3):\n",
    "\tprint(\"P(c{} | x_new) = {:.8f}\".format(k, (p_new[k-1, int(x_new[0])] * gaussian(x_new[1:], μ_new[k-1], Σ_new[k-1]) * π_new[k-1]) / (p1_new[int(x_new[0])] * gaussian(x_new[1:], μ1_new, Σ1_new) * π1_new + p2_new[int(x_new[0])] * gaussian(x_new[1:], μ2_new, Σ2_new) * π2_new)))"
   ]
  },
  {
   "cell_type": "markdown",
   "metadata": {},
   "source": [
    "$$\n",
    "P(c_k \\; | \\; \\textbf{x}_{\\text{new}})\n",
    "    =\n",
    "    \\frac{p_k(x_{\\text{new},1}) \\cdot\n",
    "    N \\left( \\begin{bmatrix} x_{\\text{new},2} \\\\ x_{\\text{new},3} \\end{bmatrix} \\; | \\; \\textbf{μ}_k, \\textbf{Σ}_k \\right)\n",
    "    \\cdot π_k}\n",
    "    {\\displaystyle\\sum_{j = 1}^n \\;\n",
    "        p_j(x_{\\text{new},1}) \\cdot\n",
    "        N \\left( \\begin{bmatrix} x_{\\text{new},2} \\\\ x_{\\text{new},3} \\end{bmatrix} \\; | \\; \\textbf{μ}_j, \\textbf{Σ}_j \\right)\n",
    "        \\cdot π_j}\n",
    "$$"
   ]
  },
  {
   "cell_type": "markdown",
   "metadata": {},
   "source": [
    "$$\n",
    "p_1 \\cdot\n",
    "N \\left( \\begin{bmatrix} x_{\\text{new},2} \\\\ x_{\\text{new},3} \\end{bmatrix} \\; | \\; \\textbf{μ}_1, \\textbf{Σ}_1 \\right)\n",
    "\\cdot π_1\n",
    "= 0.23403948 \\cdot 0.02707557 \\cdot 0.38616755 = 0.00244705\n",
    "$$\n",
    "\n",
    "$$\n",
    "p_2 \\cdot\n",
    "N \\left( \\begin{bmatrix} x_{\\text{new},2} \\\\ x_{\\text{new},3} \\end{bmatrix} \\; | \\; \\textbf{μ}_2, \\textbf{Σ}_2 \\right)\n",
    "\\cdot π_2\n",
    "= 0.66731817 \\cdot 0.06843088 \\cdot 0.61383245 = 0.02803076\n",
    "$$\n",
    "\n",
    "$$\n",
    "P(c_1 \\; | \\; \\textbf{x}_{\\text{\\text{new}}})\n",
    "    = \\frac{0.00244705}{0.00244705 + 0.02803076} = 0.08028951\n",
    "$$\n",
    "\n",
    "$$\n",
    "P(c_2 \\; | \\; \\textbf{x}_{\\text{\\text{new}}})\n",
    "    = \\frac{0.02803076}{0.00244705 + 0.02803076} = 0.91971049\n",
    "$$"
   ]
  },
  {
   "cell_type": "markdown",
   "metadata": {},
   "source": [
    "### 3) [2.5v]\n",
    "\n",
    "**Performing a hard assignment of observations to clusters under a ML assumption, identify the silhouette of both clusters under a Manhattan distance.**"
   ]
  },
  {
   "cell_type": "code",
   "execution_count": 119,
   "metadata": {},
   "outputs": [
    {
     "name": "stdout",
     "output_type": "stream",
     "text": [
      "Gaussians:\n",
      "N(x1 | μ1, Σ1) = 0.98903969\n",
      "N(x2 | μ1, Σ1) = 1.65326078\n",
      "N(x3 | μ1, Σ1) = 1.87752550\n",
      "N(x4 | μ1, Σ1) = 0.08872531\n",
      "N(x1 | μ2, Σ2) = 1.42292322\n",
      "N(x2 | μ2, Σ2) = 0.26673149\n",
      "N(x3 | μ2, Σ2) = 1.36519178\n",
      "N(x4 | μ2, Σ2) = 1.08390872\n",
      "\n",
      "New likelihoods:\n",
      "P(x1 | c1) = 0.23147434\n",
      "P(x2 | c1) = 1.26633248\n",
      "P(x3 | c1) = 1.43811040\n",
      "P(x4 | c1) = 0.02076523\n",
      "P(x1 | c2) = 0.94954252\n",
      "P(x2 | c2) = 0.08873672\n",
      "P(x3 | c2) = 0.45417450\n",
      "P(x4 | c2) = 0.72331198\n",
      "\n",
      "Manhattan distances:\n",
      "d(x1, x2) = 2.7\n",
      "d(x1, x3) = 1.8\n",
      "d(x1, x4) = 0.4\n",
      "d(x2, x3) = 0.9\n",
      "d(x2, x4) = 2.7\n",
      "d(x3, x4) = 1.8\n",
      "\n",
      "Silhouettes of the observations:\n",
      "S(x1) = 0.8222\n",
      "S(x2) = 0.6667\n",
      "S(x3) = 0.5000\n",
      "S(x4) = 0.8222\n",
      "\n",
      "Silhouettes of the clusters:\n",
      "S(c1) = 0.5833\n",
      "S(c2) = 0.8222\n"
     ]
    }
   ],
   "source": [
    "print(\"Gaussians:\")\n",
    "gaussians = np.zeros((2, 4))\n",
    "for k in range(1, 3):\n",
    "    for i in range(1, 5):\n",
    "        gaussians[k-1][i-1] = gaussian(X[i-1][1:], μ_new[k-1], Σ_new[k-1])\n",
    "        formatted_pdf = \"{:.8f}\".format(gaussians[k-1][i-1])\n",
    "        print(\"N(x{} | μ{}, Σ{}) = {}\".format(i, k, k, formatted_pdf))\n",
    "\n",
    "print(\"\\nNew likelihoods:\")\n",
    "likelihoods_new = np.zeros((2, 4))\n",
    "for k in range(1, 3):\n",
    "    for i in range(1, 5):\n",
    "        likelihoods_new[k-1][i-1] = p_new[k-1][int(X[i-1, 0])] * gaussian(X[i-1][1:], μ_new[k-1], Σ_new[k-1])\n",
    "        print(\"P(x{} | c{}) = {:.8f}\".format(i, k, likelihoods_new[k-1][i-1]))\n",
    "\n",
    "print(\"\\nManhattan distances:\")\n",
    "dist = np.zeros((5, 5))\n",
    "for i in range(1, 5):\n",
    "    for j in range(i+1, 5):\n",
    "        dist[i][j] = np.sum(np.abs(X[i-1] - X[j-1]))\n",
    "        print(\"d(x{}, x{}) = {:.8f}\".format(i, j, dist[i][j]).rstrip('0').rstrip('.'))\n",
    "\n",
    "print(\"\\nSilhouettes of the observations:\")\n",
    "S1 = 1 - (dist[1, 4])/((1/2)*(dist[1, 2] + dist[1, 3]))\n",
    "S2 = 1 - (dist[2, 3])/((1/2)*(dist[1, 2] + dist[2, 4]))\n",
    "S3 = 1 - (dist[2, 3])/((1/2)*(dist[1, 3] + dist[3, 4]))\n",
    "S4 = 1 - (dist[1, 4])/((1/2)*(dist[2, 4] + dist[3, 4]))\n",
    "print(\"S(x1) = {:.4f}\".format(S1))\n",
    "print(\"S(x2) = {:.4f}\".format(S2))\n",
    "print(\"S(x3) = {:.4f}\".format(S3))\n",
    "print(\"S(x4) = {:.4f}\".format(S4))\n",
    "\n",
    "\n",
    "print(\"\\nSilhouettes of the clusters:\")\n",
    "print(\"S(c1) = {:.4f}\".format((1/2)*(S2 + S3)))\n",
    "print(\"S(c2) = {:.4f}\".format((1/2)*(S1 + S4)))"
   ]
  },
  {
   "cell_type": "markdown",
   "metadata": {},
   "source": [
    "$$ x_i \\text{ is assigned to the cluster } \\underset{c \\; \\in \\; \\{c_1, c_2\\}}{\\text{argmax}} \\{ P(\\textbf{x}_i \\; | \\; c) \\}$$\n",
    "\n",
    "$$\n",
    "S(x_i) = 1 - \\frac{a(x_i)}{b(x_i)} = 1 -\n",
    "    \\frac{\\displaystyle\\frac{1}{\\#c - 1} \\sum_{x_j \\; \\in \\; c \\, \\backslash \\, \\{x_i \\}} \\left\\| x_i - x_j \\right\\|_1}\n",
    "         {\\displaystyle\\frac{1}{\\#\\bar{c}} \\sum_{x_j \\; \\in \\; \\bar{c}} \\left\\| x_i - x_j \\right\\|_1},\n",
    "\\qquad\n",
    "c \\text{ being the cluster } x_i \\text{ was assigned to, and } \\bar{c} \\text{ the other one}\n",
    "$$\n",
    "\n",
    "$$\n",
    "S(c_k) = \\frac{\\displaystyle\\sum_{x_i \\; \\in \\; c_k} S(x_i)}{\\# c_k}\n",
    "$$"
   ]
  },
  {
   "cell_type": "markdown",
   "metadata": {},
   "source": [
    "- New likelihoods:\n",
    "\n",
    "$$ P(\\textbf{x}_1 \\; | \\; c_1) = 0.23403948 \\cdot 0.98903969 = 0.23147434 $$\n",
    "$$ P(\\textbf{x}_2 \\; | \\; c_1) = (1 - 0.23403948) \\cdot 1.65326078 = 1.26633248 $$\n",
    "$$ P(\\textbf{x}_3 \\; | \\; c_1) = (1 - 0.23403948) \\cdot 1.87752550 = 1.43811040 $$\n",
    "$$ P(\\textbf{x}_4 \\; | \\; c_1) = 0.23403948 \\cdot 0.08872531 = 0.02076523 $$\n",
    "$$ P(\\textbf{x}_1 \\; | \\; c_2) = 0.66731817 \\cdot 1.42292322 = 0.94954252 $$\n",
    "$$ P(\\textbf{x}_2 \\; | \\; c_2) = (1 - 0.66731817) \\cdot 0.26673149 = 0.08873672 $$\n",
    "$$ P(\\textbf{x}_3 \\; | \\; c_2) = (1 - 0.66731817) \\cdot 1.36519178 = 0.45417450 $$\n",
    "$$ P(\\textbf{x}_4 \\; | \\; c_2) = 0.66731817 \\cdot 1.08390872 = 0.72331198 $$"
   ]
  },
  {
   "cell_type": "markdown",
   "metadata": {},
   "source": [
    "- Assignment of observations to clusters:\n",
    "\n",
    "$$ x_1\\text: \\quad \\underset{c \\; \\in \\; \\{c_1, c_2\\}}{\\text{argmax}} \\{0.23147434, 0.94954252 \\} = c_2 $$\n",
    "$$ x_2\\text: \\quad \\underset{c \\; \\in \\; \\{c_1, c_2\\}}{\\text{argmax}} \\{1.26633248, 0.08873672 \\} = c_1 $$\n",
    "$$ x_3\\text: \\quad \\underset{c \\; \\in \\; \\{c_1, c_2\\}}{\\text{argmax}} \\{1.43811040, 0.45417450 \\} = c_1 $$\n",
    "$$ x_4\\text: \\quad \\underset{c \\; \\in \\; \\{c_1, c_2\\}}{\\text{argmax}} \\{0.02076523, 0.72331198 \\} = c_2 $$"
   ]
  },
  {
   "cell_type": "markdown",
   "metadata": {},
   "source": [
    "- Manhattan distances:\n",
    "\n",
    "$$ \\left\\| x_1 - x_2 \\right\\|_1 = |1 - 0| + |0.6 + 0.4| + |0.1 - 0.8| = 2.7 $$\n",
    "$$ \\left\\| x_1 - x_3 \\right\\|_1 = |1 - 0| + |0.6 - 0.2| + |0.1 - 0.5| = 1.8 $$\n",
    "$$ \\left\\| x_1 - x_4 \\right\\|_1 = |1 - 1| + |0.6 - 0.4| + |0.1 + 0.1| = 0.4 $$\n",
    "$$ \\left\\| x_2 - x_3 \\right\\|_1 = |0 - 0| + |-0.4 - 0.2| + |0.8 - 0.5| = 0.9 $$\n",
    "$$ \\left\\| x_2 - x_4 \\right\\|_1 = |0 - 1| + |-0.4 - 0.4| + |0.8 + 0.1| = 2.7 $$\n",
    "$$ \\left\\| x_3 - x_4 \\right\\|_1 = |0 - 1| + |0.2 - 0.4| + |0.5 + 0.1| = 1.8 $$"
   ]
  },
  {
   "cell_type": "markdown",
   "metadata": {},
   "source": [
    "- Silhouettes of the observations:\n",
    "\n",
    "$$\n",
    "S(x_1) = 1 - \\frac{\\left\\| x_1 - x_4 \\right\\|_1}{\\frac{1}{2} \\left( \\left\\| x_1 - x_2 \\right\\|_1 + \\left\\| x_1 - x_3 \\right\\|_1 \\right)}\n",
    "= 1 - \\frac{0.4}{\\frac{1}{2} (2.7 + 1.8)} = 0.8222\n",
    "$$\n",
    "\n",
    "$$\n",
    "S(x_2) = 1 - \\frac{\\left\\| x_2 - x_3 \\right\\|_1}{\\frac{1}{2} \\left( \\left\\| x_2 - x_1 \\right\\|_1 + \\left\\| x_2 - x_4 \\right\\|_1 \\right)}\n",
    "= 1 - \\frac{0.9}{\\frac{1}{2} (2.7 + 2.7)} = 0.6667\n",
    "$$\n",
    "\n",
    "$$\n",
    "S(x_3) = 1 - \\frac{\\left\\| x_3 - x_2 \\right\\|_1}{\\frac{1}{2} \\left( \\left\\| x_3 - x_1 \\right\\|_1 + \\left\\| x_3 - x_4 \\right\\|_1 \\right)}\n",
    "= 1 - \\frac{0.9}{\\frac{1}{2} (1.8 + 1.8)} = 0.5000\n",
    "$$\n",
    "\n",
    "$$\n",
    "S(x_4) = 1 - \\frac{\\left\\| x_4 - x_1 \\right\\|_1}{\\frac{1}{2} \\left( \\left\\| x_4 - x_2 \\right\\|_1 + \\left\\| x_4 - x_3 \\right\\|_1 \\right)}\n",
    "= 1 - \\frac{0.4}{\\frac{1}{2} (2.7 + 1.8)} = 0.8222\n",
    "$$\n"
   ]
  },
  {
   "cell_type": "markdown",
   "metadata": {},
   "source": [
    "- Silhouettes of the clusters:\n",
    "\n",
    "$$\n",
    "S(c_1) = \\frac{S(x_2) + S(x_3)}{2} = \\frac{0.6667 + 0.5000}{2} = 0.5833\n",
    "$$\n",
    "\n",
    "$$\n",
    "S(c_2) = \\frac{S(x_1) + S(x_4)}{2} = \\frac{0.8222 + 0.8222}{2} = 0.8222\n",
    "$$"
   ]
  },
  {
   "cell_type": "markdown",
   "metadata": {},
   "source": [
    "### 4) [0.5v]\n",
    "\n",
    "**Knowing the purity of the clustering solution is 0.75, identify the number of possible classes (ground truth).**"
   ]
  },
  {
   "cell_type": "markdown",
   "metadata": {},
   "source": [
    "$ \\text{purity} = \\dfrac{1}{4} \\left( \\underset{j}{\\text{max}} \\{|c_1 \\cap L_j|\\} + \\underset{j}{\\text{max}} \\{|c_2 \\cap L_j|\\}\\right) = 0.75 \\iff \\underset{j}{\\text{max}} \\{|c_1 \\cap L_j|\\} + \\underset{j}{\\text{max}} \\{|c_2 \\cap L_j|\\} = 3 $\n",
    "\n",
    "$ \\text{Como temos 4 observações, pode haver até 4 classes.} $\n",
    "\n",
    "$ \\text{Como } |c_k| = 2, \\; \\forall k \\in \\{1,2\\}, \\; \\text{a interseção de } c_k \\text{ com qualquer conjunto tem, no máximo, 2 elementos: } 0 \\leq |c_k \\cap L_j| \\leq 2, \\; \\forall k,j $\n",
    "\n",
    "$ \\text{Para somar 3, temos, necessariamente, } \\underset{j}{\\text{max}} \\{|c_{k_1} \\cap L_j|\\} = 1 \\text{ e } \\underset{j}{\\text{max}} \\{|c_{k_2} \\cap L_j|\\} = 2, \\; \\text{com } (k_1 = 1 \\land k_2 = 2) \\lor (k_1 = 2 \\land k_2 = 1) $\n",
    "\n",
    "$ \\text{Seja } L_2 \\text{ tal que } |c_{k_2} \\cap L_2|\\ = 2. \\text{ Então, } L_2 \\supset c_{k_2} \\; (\\text{mas nada implica que } L_2 \\neq c_{k_2}) $\n",
    "\n",
    "$ \\text{Para } c_{k_1} = \\{x_{i_1}, x_{i_2}\\}, \\; x_{i_1} \\in L_p \\land x_{i_2} \\in L_q, \\; L_p \\neq L_q $\n",
    "\n",
    "$ \\text{Como tal, há dois casos possíveis:} $\n",
    "\n",
    "$\n",
    "\\begin{array}{c l}\n",
    "\\letterlist{a} & L_p \\neq L_2 \\neq L_q \\\\\n",
    "\\letterlist{b} & L_p = L_2 \\lor L_q = L_2\n",
    "\\end{array}\n",
    "$\n",
    "\n",
    "$ \\text{No caso a., há 3 classes (uma classe com ambas as observações de um dos clusters, } \\\\ \\qquad \\text{e outras duas classes cada uma com uma das observações do outro cluster).}$\n",
    "\n",
    "$ \\text{No caso b., há 2 classes (uma classe com ambas as observações de um dos clusters } \\\\ \\qquad \\text{e ainda com uma das observações do outro cluster, e outra classe com a outra observação do outro cluster).}$\n",
    "\n",
    "$\\text{Concluindo, o número de classes pode ser 2 ou 3.}$"
   ]
  },
  {
   "cell_type": "markdown",
   "metadata": {},
   "source": [
    "## II. Programming [9v]\n",
    "\n",
    "**Recall the `column_diagnosis.arff` dataset from previous homeworks. For the following exercises, normalize the data using sklearn’s `MinMaxScaler`.**"
   ]
  },
  {
   "cell_type": "code",
   "execution_count": 5,
   "metadata": {},
   "outputs": [],
   "source": [
    "# Import Libraries\n",
    "import numpy as np\n",
    "import pandas as pd\n",
    "import matplotlib.pyplot as plt\n",
    "from scipy.io.arff import loadarff\n",
    "from sklearn.preprocessing import MinMaxScaler\n",
    "from sklearn import cluster, metrics\n",
    "from sklearn.decomposition import PCA\n",
    "from IPython.display import Math, Latex"
   ]
  },
  {
   "cell_type": "code",
   "execution_count": 6,
   "metadata": {},
   "outputs": [],
   "source": [
    "# Load data\n",
    "data = loadarff('./column_diagnosis.arff')\n",
    "df = pd.DataFrame(data[0])\n",
    "df['class'] = df['class'].str.decode('utf-8')\n",
    "\n",
    "# Split data into features and labels\n",
    "X = df.drop('class', axis=1)\n",
    "y_true = df['class']\n",
    "\n",
    "# Normalize data\n",
    "scaler = MinMaxScaler()\n",
    "X_norm = scaler.fit_transform(X)\n",
    "X_norm = pd.DataFrame(X_norm, columns=X.columns)"
   ]
  },
  {
   "cell_type": "markdown",
   "metadata": {},
   "source": [
    "### 1) [4v]\n",
    "\n",
    "**Using `sklearn`, apply k-means clustering fully unsupervisedly on the normalized data with**\n",
    "$\n",
    "k \\in \\{2, 3, 4, 5\\}\n",
    "$\n",
    "**(random=0 and remaining parameters as default). Assess the silhouette and purity of the produced solutions.**"
   ]
  },
  {
   "cell_type": "code",
   "execution_count": 27,
   "metadata": {},
   "outputs": [
    {
     "name": "stdout",
     "output_type": "stream",
     "text": [
      "k = 2: silhouette = 0.3604, purity = 0.6323\n",
      "k = 3: silhouette = 0.2958, purity = 0.6677\n",
      "k = 4: silhouette = 0.2744, purity = 0.6613\n",
      "k = 5: silhouette = 0.2382, purity = 0.6774\n"
     ]
    }
   ],
   "source": [
    "import warnings\n",
    "warnings.filterwarnings('ignore')\n",
    "# warnings.filterwarnings('default')\n",
    "\n",
    "predictions = []\n",
    "for k in range (2, 6):\n",
    "    model = cluster.KMeans(n_clusters=k, random_state=0)\n",
    "    model.fit(X_norm)\n",
    "    y_pred = model.predict(X_norm)\n",
    "    predictions.append(y_pred)\n",
    "\n",
    "    # Compute silhouette\n",
    "    silhouette = metrics.silhouette_score(X_norm, y_pred, metric='euclidean')\n",
    "    \n",
    "    # Compute purity\n",
    "    cf_matrix = metrics.cluster.contingency_matrix(y_true, y_pred)\n",
    "    purity = np.sum(np.amax(cf_matrix, axis=0)) / np.sum(cf_matrix)\n",
    "    \n",
    "    print(f'k = {k}: silhouette = {silhouette:.4f}, purity = {purity:.4f}')"
   ]
  },
  {
   "cell_type": "markdown",
   "metadata": {},
   "source": [
    "### 2) [2v]\n",
    "\n",
    "**Consider the application of PCA after the data normalization:**"
   ]
  },
  {
   "cell_type": "markdown",
   "metadata": {},
   "source": [
    "#### i.\n",
    "\n",
    "**Identify the variability explained by the top two principal components.**"
   ]
  },
  {
   "cell_type": "code",
   "execution_count": 32,
   "metadata": {},
   "outputs": [
    {
     "name": "stdout",
     "output_type": "stream",
     "text": [
      "Explained variability:\n",
      "PC1: 56.1814%\n",
      "PC2: 20.9560%\n",
      "Total: 77.1374%\n"
     ]
    }
   ],
   "source": [
    "# Apply PCA\n",
    "pca = PCA(n_components=2, svd_solver='full')\n",
    "pca.fit(X_norm)\n",
    "X_pca = pca.transform(X_norm)\n",
    "\n",
    "# Explained variability\n",
    "explained_variability = pca.explained_variance_ratio_\n",
    "print(f'Explained variability:')\n",
    "print(f'PC1: {100 * explained_variability[0]:.4f}%')\n",
    "print(f'PC2: {100 * explained_variability[1]:.4f}%')\n",
    "print(f'Total: {100 * np.sum(explained_variability):.4f}%')\n"
   ]
  },
  {
   "cell_type": "markdown",
   "metadata": {},
   "source": [
    "#### ii.\n",
    "\n",
    "**For each one of these two components, sort the input variables by relevance by inspecting the absolute weights of the linear projection.**"
   ]
  },
  {
   "cell_type": "code",
   "execution_count": 36,
   "metadata": {},
   "outputs": [
    {
     "name": "stdout",
     "output_type": "stream",
     "text": [
      "PC1:\n",
      "pelvic_incidence: 0.5916\n",
      "lumbar_lordosis_angle: 0.5151\n",
      "pelvic_tilt: 0.4670\n",
      "sacral_slope: 0.3257\n",
      "degree_spondylolisthesis: 0.2169\n",
      "pelvic_radius: 0.1158\n",
      "\n",
      "PC2:\n",
      "pelvic_tilt: 0.6704\n",
      "pelvic_radius: 0.5811\n",
      "sacral_slope: 0.4433\n",
      "pelvic_incidence: 0.1000\n",
      "lumbar_lordosis_angle: 0.0800\n",
      "degree_spondylolisthesis: 0.0046\n"
     ]
    }
   ],
   "source": [
    "# Get principal components\n",
    "weights = pca.components_\n",
    "pc1 = weights[0]\n",
    "pc2 = weights[1]\n",
    "\n",
    "# Sort by relevance\n",
    "pc1 = np.abs(pc1)\n",
    "pc2 = np.abs(pc2)\n",
    "pc1_sorted = np.argsort(pc1)[::-1]\n",
    "pc2_sorted = np.argsort(pc2)[::-1]\n",
    "\n",
    "# PC1\n",
    "print(\"PC1:\")\n",
    "for i in pc1_sorted:\n",
    "    variable = X.columns[i]\n",
    "    print(f\"{variable}: {pc1[i]:.4f}\")\n",
    "\n",
    "# PC2\n",
    "print(\"\\nPC2:\")\n",
    "for i in pc2_sorted:\n",
    "    variable = X.columns[i]\n",
    "    print(f\"{variable}: {pc2[i]:.4f}\")"
   ]
  },
  {
   "cell_type": "markdown",
   "metadata": {},
   "source": [
    "### 3) [2v]\n",
    "\n",
    "**Visualize side-by-side the data using: i) the ground diagnoses, and ii) the previously learned**\n",
    "$ k = 3 $\n",
    "**clustering solution. To this end, project the normalized data onto a 2-dimensional data space using PCA and then color observations using the reference and cluster annotations.**"
   ]
  },
  {
   "cell_type": "code",
   "execution_count": 25,
   "metadata": {},
   "outputs": [
    {
     "data": {
      "image/png": "[encoded data removed]",
      "text/plain": [
       "<Figure size 1200x600 with 2 Axes>"
      ]
     },
     "metadata": {},
     "output_type": "display_data"
    }
   ],
   "source": [
    "plt.figure(figsize=(12, 6))\n",
    "target_labels = ['Normal', 'Hernia', 'Spondylolisthesis']\n",
    "colors = ['navy', 'turquoise', 'darkorange']\n",
    "lw = 2\n",
    "\n",
    "# Plot Ground Truth\n",
    "plt.subplot(1, 2, 1)\n",
    "for color, i, target_label in zip(colors, [0, 1, 2], target_labels):\n",
    "    plt.scatter(X_pca[y_true == target_label, 0], X_pca[y_true == target_label, 1], \\\n",
    "        color=color, alpha=.8, lw=lw, label=target_label)\n",
    "plt.legend(loc='best', shadow=False, scatterpoints=1)\n",
    "plt.title('Ground Truth')\n",
    "\n",
    "# Plot KMeans\n",
    "plt.subplot(1, 2, 2)\n",
    "for color, i, target_label in zip(colors, [0, 1, 2], target_labels):\n",
    "    #  predictions[1] is k=3\n",
    "    plt.scatter(X_pca[predictions[1] == i, 0], X_pca[predictions[1] == i, 1], \\\n",
    "        color=color, alpha=.8, lw=lw, label=target_label)\n",
    "plt.legend(loc='best', shadow=False, scatterpoints=1)\n",
    "plt.title('K-Means')\n",
    "\n",
    "plt.show()"
   ]
  },
  {
   "cell_type": "markdown",
   "metadata": {},
   "source": [
    "### 4) [1v]\n",
    "\n",
    "**Considering the results from questions (1) and (3), identify two ways on how clustering can be used to characterize the population of ill and healthy individuals.**"
   ]
  },
  {
   "cell_type": "markdown",
   "metadata": {},
   "source": [
    "- In the case of question 1, when we try applying k-means for different values of k, we can see that the silhouette and purity of the produced solutions vary, so we can use clustering by finding some value k that maximizes the silhouette and/or the purity, and characterize the population based on those clusters. The obtained results in the exercise are not very good, which means that the observations are not very well classified.\n",
    "\n",
    "- In the case of question 3, we can compare the clustering with the ground truth by visualizing them. In this case, the observations are not very well classified, since the clusters are not very much accordant with the ground truth. Based on the obtained projections, we can use clustering to characterize an individual with the condition of Spondylolisthesis, because this cluster is in agreement with the ground truth. However, we cannot use clustering to characterize an individual with Normal or Hernia conditions, because those clusters do not correspond to the ground truth."
   ]
  }
 ],
 "metadata": {
  "kernelspec": {
   "display_name": "Python 3",
   "language": "python",
   "name": "python3"
  },
  "language_info": {
   "codemirror_mode": {
    "name": "ipython",
    "version": 3
   },
   "file_extension": ".py",
   "mimetype": "text/x-python",
   "name": "python",
   "nbconvert_exporter": "python",
   "pygments_lexer": "ipython3",
   "version": "3.12.0"
  }
 },
 "nbformat": 4,
 "nbformat_minor": 2
}
