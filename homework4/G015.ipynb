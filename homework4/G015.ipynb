{
 "cells": [
  {
   "cell_type": "markdown",
   "metadata": {},
   "source": [
    "# Homework IV - Aprendizagem\n",
    "\n",
    "**Afonso da Conceição Ribeiro**, 102763\n",
    "<br>\n",
    "**Miguel Gomes Marques Pessanha de Almeida**, 103493"
   ]
  },
  {
   "cell_type": "markdown",
   "metadata": {},
   "source": [
    "## I. Pen and Paper [11v]\n",
    "\n",
    "**Given the following observations,**\n",
    "$\n",
    "\\left\\{\n",
    "\\begin{bmatrix} 1 \\\\  0.6 \\\\  0.1 \\end{bmatrix},\n",
    "\\begin{bmatrix} 0 \\\\ -0.4 \\\\  0.8 \\end{bmatrix},\n",
    "\\begin{bmatrix} 0 \\\\  0.2 \\\\  0.5 \\end{bmatrix},\n",
    "\\begin{bmatrix} 1 \\\\  0.4 \\\\ -0.1 \\end{bmatrix}\n",
    "\\right\\}\n",
    "$\n",
    "**. <br> Consider a Bayesian clustering that assumes {y<sub>1</sub>} ⫫ {y<sub>2</sub>, y<sub>3</sub>}, two clusters following a Bernoulli distribution on y<sub>1</sub> (p<sub>1</sub> and p<sub>2</sub>), a multivariate Gaussian on {y<sub>2</sub>, y<sub>3</sub>} (N<sub>1</sub> and N<sub>2</sub>), and the following initial mixture:**\n",
    "$$\n",
    "\\pi_1 = 0.5 \\;, \\quad \\pi_2 = 0.5\n",
    "$$\n",
    "$$\n",
    "p_1 = P(y_1 = 1) = 0.3 \\;, \\quad p2 = P(y_1 = 1) = 0.7\n",
    "$$\n",
    "$$\n",
    "N_1 \\left(\n",
    "\t\\textbf{u}_1 = \\begin{bmatrix} 1 \\\\ 1 \\end{bmatrix},\n",
    "\t\\textbf{Σ}_1 = \\begin{bmatrix} 2 & 0.5 \\\\ 0.5 & 2 \\end{bmatrix}\n",
    "\\right), \\quad\n",
    "N_2 \\left(\n",
    "\t\\textbf{u}_2 = \\begin{bmatrix} 0 \\\\ 0 \\end{bmatrix},\n",
    "\t\\textbf{Σ}_2 = \\begin{bmatrix} 1.5 & 1 \\\\ 1 & 1.5 \\end{bmatrix}\n",
    "\\right).\n",
    "$$"
   ]
  },
  {
   "cell_type": "markdown",
   "metadata": {},
   "source": [
    "### 1) [6v]\n",
    "\n",
    "**Perform one epoch of the EM clustering algorithm and determine the new parameters. <br>\n",
    "Hint: we suggest you to use `numpy` and `scipy`, however disclose the intermediary results step by step.**"
   ]
  },
  {
   "cell_type": "markdown",
   "metadata": {},
   "source": [
    "### 2) [2v]\n",
    "\n",
    "**Given the new observation,**\n",
    "$\n",
    "\\textbf{x}_{\\text{new}} = \\begin{bmatrix} 1 \\\\ 0.3 \\\\ 0.7 \\end{bmatrix}\n",
    "$\n",
    "**, determine the cluster memberships (posteriors).**"
   ]
  },
  {
   "cell_type": "markdown",
   "metadata": {},
   "source": [
    "### 3) [2.5v]\n",
    "\n",
    "**Performing a hard assignment of observations to clusters under a ML assumption, identify the silhouette of the larger cluster under a Manhattan distance.**"
   ]
  },
  {
   "cell_type": "markdown",
   "metadata": {},
   "source": [
    "### 4) [0.5v]\n",
    "\n",
    "**Knowing the purity of the clustering solution is 0.75, identify the number of possible classes (ground truth).**"
   ]
  },
  {
   "cell_type": "markdown",
   "metadata": {},
   "source": [
    "## II. Programming [9v]\n",
    "\n",
    "**Recall the `column_diagnosis.arff` dataset from previous homeworks. For the following exercises, normalize the data using sklearn’s `MinMaxScaler`.**"
   ]
  },
  {
   "cell_type": "code",
   "metadata": {},
   "outputs": [],
   "source": [
    "# Import Libraries"
   ]
  },
  {
   "cell_type": "code",
   "metadata": {},
   "outputs": [],
   "source": [
    "# Data Loading\n",
    "\n",
    "# Data Preprocessing"
   ]
  },
  {
   "cell_type": "markdown",
   "metadata": {},
   "source": [
    "### 1) [4v]\n",
    "\n",
    "**Using `sklearn`, apply k-means clustering fully unsupervisedly on the normalized data with**\n",
    "$\n",
    "k \\in \\{2, 3, 4, 5\\}\n",
    "$\n",
    "**(random=0 and remaining parameters as default). Assess the silhouette and purity of the produced solutions.**"
   ]
  },
  {
   "cell_type": "markdown",
   "metadata": {},
   "source": [
    "### 2) [2v]\n",
    "\n",
    "**Consider the application of PCA after the data normalization:**"
   ]
  },
  {
   "cell_type": "markdown",
   "metadata": {},
   "source": [
    "#### i.\n",
    "\n",
    "**Identify the variability explained by the top two principal components.**"
   ]
  },
  {
   "cell_type": "markdown",
   "metadata": {},
   "source": [
    "#### ii.\n",
    "\n",
    "**For each one of these two components, sort the input variables by relevance by inspecting the absolute weights of the linear projection.**"
   ]
  },
  {
   "cell_type": "markdown",
   "metadata": {},
   "source": [
    "### 3) [2v]\n",
    "\n",
    "**Visualize side-by-side the data using: i) the ground diagnoses, and ii) the previously learned**\n",
    "$\n",
    "k = 3\n",
    "$\n",
    "**clustering solution. To this end, projected the normalized data onto a 2-dimensional data space using PCA and then color observations using the reference and cluster annotations.**"
   ]
  },
  {
   "cell_type": "markdown",
   "metadata": {},
   "source": [
    "### 4) [1v]\n",
    "\n",
    "**Considering the results from questions (1) and (3), identify two ways on how clustering can be used to characterize the population of ill and healthy individuals.**"
   ]
  }
 ],
 "metadata": {
  "kernelspec": {
   "display_name": "Python 3",
   "language": "python",
   "name": "python3"
  },
  "language_info": {
   "codemirror_mode": {
    "name": "ipython",
    "version": 3
   },
   "file_extension": ".py",
   "mimetype": "text/x-python",
   "name": "python",
   "nbconvert_exporter": "python",
   "pygments_lexer": "ipython3",
   "version": "3.12.0"
  }
 },
 "nbformat": 4,
 "nbformat_minor": 2
}
